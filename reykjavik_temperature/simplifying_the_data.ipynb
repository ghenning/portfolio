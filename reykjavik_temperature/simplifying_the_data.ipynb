{
 "cells": [
  {
   "cell_type": "code",
   "execution_count": 1,
   "metadata": {},
   "outputs": [],
   "source": [
    "import pandas as pd"
   ]
  },
  {
   "cell_type": "code",
   "execution_count": 2,
   "metadata": {},
   "outputs": [],
   "source": [
    "# load the raw data\n",
    "df = pd.read_csv('data.txt',delimiter='\\t',skiprows=1)"
   ]
  },
  {
   "cell_type": "code",
   "execution_count": 3,
   "metadata": {},
   "outputs": [
    {
     "data": {
      "text/html": [
       "<div>\n",
       "<style scoped>\n",
       "    .dataframe tbody tr th:only-of-type {\n",
       "        vertical-align: middle;\n",
       "    }\n",
       "\n",
       "    .dataframe tbody tr th {\n",
       "        vertical-align: top;\n",
       "    }\n",
       "\n",
       "    .dataframe thead th {\n",
       "        text-align: right;\n",
       "    }\n",
       "</style>\n",
       "<table border=\"1\" class=\"dataframe\">\n",
       "  <thead>\n",
       "    <tr style=\"text-align: right;\">\n",
       "      <th></th>\n",
       "      <th>#stöð</th>\n",
       "      <th>ár</th>\n",
       "      <th>mán</th>\n",
       "      <th>t</th>\n",
       "      <th>tx</th>\n",
       "      <th>txx</th>\n",
       "      <th>txxD1</th>\n",
       "      <th>tn</th>\n",
       "      <th>tnn</th>\n",
       "      <th>tnnD1</th>\n",
       "      <th>rh</th>\n",
       "      <th>r</th>\n",
       "      <th>rx</th>\n",
       "      <th>rxD1</th>\n",
       "      <th>p</th>\n",
       "      <th>n</th>\n",
       "      <th>sun</th>\n",
       "      <th>f</th>\n",
       "    </tr>\n",
       "  </thead>\n",
       "  <tbody>\n",
       "    <tr>\n",
       "      <th>0</th>\n",
       "      <td>1</td>\n",
       "      <td>1949</td>\n",
       "      <td>1</td>\n",
       "      <td>-2.7</td>\n",
       "      <td>0.5</td>\n",
       "      <td>6.6</td>\n",
       "      <td>9</td>\n",
       "      <td>-6.8</td>\n",
       "      <td>-15.2</td>\n",
       "      <td>12</td>\n",
       "      <td>81.0</td>\n",
       "      <td>68.8</td>\n",
       "      <td>9.6</td>\n",
       "      <td>25</td>\n",
       "      <td>996.7</td>\n",
       "      <td>6.0</td>\n",
       "      <td>18.1</td>\n",
       "      <td>8.5</td>\n",
       "    </tr>\n",
       "    <tr>\n",
       "      <th>1</th>\n",
       "      <td>1</td>\n",
       "      <td>1949</td>\n",
       "      <td>2</td>\n",
       "      <td>0.0</td>\n",
       "      <td>2.5</td>\n",
       "      <td>7.8</td>\n",
       "      <td>6</td>\n",
       "      <td>-2.5</td>\n",
       "      <td>-7.5</td>\n",
       "      <td>27</td>\n",
       "      <td>87.0</td>\n",
       "      <td>80.0</td>\n",
       "      <td>8.3</td>\n",
       "      <td>16</td>\n",
       "      <td>989.0</td>\n",
       "      <td>6.7</td>\n",
       "      <td>25.1</td>\n",
       "      <td>9.2</td>\n",
       "    </tr>\n",
       "    <tr>\n",
       "      <th>2</th>\n",
       "      <td>1</td>\n",
       "      <td>1949</td>\n",
       "      <td>3</td>\n",
       "      <td>0.1</td>\n",
       "      <td>2.8</td>\n",
       "      <td>7.4</td>\n",
       "      <td>4</td>\n",
       "      <td>-2.9</td>\n",
       "      <td>-14.3</td>\n",
       "      <td>14</td>\n",
       "      <td>86.0</td>\n",
       "      <td>58.7</td>\n",
       "      <td>8.4</td>\n",
       "      <td>5</td>\n",
       "      <td>1010.4</td>\n",
       "      <td>5.9</td>\n",
       "      <td>106.6</td>\n",
       "      <td>5.9</td>\n",
       "    </tr>\n",
       "    <tr>\n",
       "      <th>3</th>\n",
       "      <td>1</td>\n",
       "      <td>1949</td>\n",
       "      <td>4</td>\n",
       "      <td>-0.0</td>\n",
       "      <td>3.1</td>\n",
       "      <td>6.6</td>\n",
       "      <td>2</td>\n",
       "      <td>-2.9</td>\n",
       "      <td>-8.9</td>\n",
       "      <td>21</td>\n",
       "      <td>77.0</td>\n",
       "      <td>51.8</td>\n",
       "      <td>17.8</td>\n",
       "      <td>18</td>\n",
       "      <td>1000.2</td>\n",
       "      <td>5.8</td>\n",
       "      <td>134.7</td>\n",
       "      <td>7.4</td>\n",
       "    </tr>\n",
       "    <tr>\n",
       "      <th>4</th>\n",
       "      <td>1</td>\n",
       "      <td>1949</td>\n",
       "      <td>5</td>\n",
       "      <td>3.6</td>\n",
       "      <td>7.2</td>\n",
       "      <td>13.0</td>\n",
       "      <td>22</td>\n",
       "      <td>0.3</td>\n",
       "      <td>-5.0</td>\n",
       "      <td>5</td>\n",
       "      <td>70.0</td>\n",
       "      <td>27.9</td>\n",
       "      <td>5.5</td>\n",
       "      <td>12</td>\n",
       "      <td>1014.8</td>\n",
       "      <td>5.1</td>\n",
       "      <td>243.2</td>\n",
       "      <td>6.9</td>\n",
       "    </tr>\n",
       "  </tbody>\n",
       "</table>\n",
       "</div>"
      ],
      "text/plain": [
       "   #stöð    ár  mán    t    tx    txx  txxD1    tn   tnn  tnnD1    rh     r  \\\n",
       "0      1  1949    1 -2.7   0.5    6.6      9  -6.8 -15.2     12  81.0  68.8   \n",
       "1      1  1949    2  0.0   2.5    7.8      6  -2.5  -7.5     27  87.0  80.0   \n",
       "2      1  1949    3  0.1   2.8    7.4      4  -2.9 -14.3     14  86.0  58.7   \n",
       "3      1  1949    4 -0.0   3.1    6.6      2  -2.9  -8.9     21  77.0  51.8   \n",
       "4      1  1949    5  3.6   7.2   13.0     22   0.3  -5.0      5  70.0  27.9   \n",
       "\n",
       "     rx  rxD1       p    n    sun    f  \n",
       "0   9.6    25   996.7  6.0   18.1  8.5  \n",
       "1   8.3    16   989.0  6.7   25.1  9.2  \n",
       "2   8.4     5  1010.4  5.9  106.6  5.9  \n",
       "3  17.8    18  1000.2  5.8  134.7  7.4  \n",
       "4   5.5    12  1014.8  5.1  243.2  6.9  "
      ]
     },
     "execution_count": 3,
     "metadata": {},
     "output_type": "execute_result"
    }
   ],
   "source": [
    "# check out how it looks like\n",
    "df.head()"
   ]
  },
  {
   "cell_type": "code",
   "execution_count": 4,
   "metadata": {},
   "outputs": [
    {
     "data": {
      "text/plain": [
       "Index(['#stöð', ' ár', 'mán', '  t', '  tx', '  txx', 'txxD1', '  tn', ' tnn',\n",
       "       'tnnD1', ' rh', ' r', ' rx', 'rxD1', ' p', ' n', 'sun', ' f'],\n",
       "      dtype='object')"
      ]
     },
     "execution_count": 4,
     "metadata": {},
     "output_type": "execute_result"
    }
   ],
   "source": [
    "# get the column names\n",
    "df.columns"
   ]
  },
  {
   "cell_type": "code",
   "execution_count": 5,
   "metadata": {},
   "outputs": [],
   "source": [
    "# we're only interested in dates and temperatures\n",
    "df = df[[' ár','mán','  t']]"
   ]
  },
  {
   "cell_type": "code",
   "execution_count": 6,
   "metadata": {},
   "outputs": [
    {
     "data": {
      "text/html": [
       "<div>\n",
       "<style scoped>\n",
       "    .dataframe tbody tr th:only-of-type {\n",
       "        vertical-align: middle;\n",
       "    }\n",
       "\n",
       "    .dataframe tbody tr th {\n",
       "        vertical-align: top;\n",
       "    }\n",
       "\n",
       "    .dataframe thead th {\n",
       "        text-align: right;\n",
       "    }\n",
       "</style>\n",
       "<table border=\"1\" class=\"dataframe\">\n",
       "  <thead>\n",
       "    <tr style=\"text-align: right;\">\n",
       "      <th></th>\n",
       "      <th>ár</th>\n",
       "      <th>mán</th>\n",
       "      <th>t</th>\n",
       "    </tr>\n",
       "  </thead>\n",
       "  <tbody>\n",
       "    <tr>\n",
       "      <th>0</th>\n",
       "      <td>1949</td>\n",
       "      <td>1</td>\n",
       "      <td>-2.7</td>\n",
       "    </tr>\n",
       "    <tr>\n",
       "      <th>1</th>\n",
       "      <td>1949</td>\n",
       "      <td>2</td>\n",
       "      <td>0.0</td>\n",
       "    </tr>\n",
       "    <tr>\n",
       "      <th>2</th>\n",
       "      <td>1949</td>\n",
       "      <td>3</td>\n",
       "      <td>0.1</td>\n",
       "    </tr>\n",
       "    <tr>\n",
       "      <th>3</th>\n",
       "      <td>1949</td>\n",
       "      <td>4</td>\n",
       "      <td>-0.0</td>\n",
       "    </tr>\n",
       "    <tr>\n",
       "      <th>4</th>\n",
       "      <td>1949</td>\n",
       "      <td>5</td>\n",
       "      <td>3.6</td>\n",
       "    </tr>\n",
       "  </tbody>\n",
       "</table>\n",
       "</div>"
      ],
      "text/plain": [
       "     ár  mán    t\n",
       "0  1949    1 -2.7\n",
       "1  1949    2  0.0\n",
       "2  1949    3  0.1\n",
       "3  1949    4 -0.0\n",
       "4  1949    5  3.6"
      ]
     },
     "execution_count": 6,
     "metadata": {},
     "output_type": "execute_result"
    }
   ],
   "source": [
    "# how does it look like now?\n",
    "df.head()"
   ]
  },
  {
   "cell_type": "code",
   "execution_count": 7,
   "metadata": {},
   "outputs": [],
   "source": [
    "# change the column names to english\n",
    "df.columns = ['year','month','temp']"
   ]
  },
  {
   "cell_type": "code",
   "execution_count": 8,
   "metadata": {},
   "outputs": [],
   "source": [
    "# we want a single column with date\n",
    "# we need a specific day of the month so we just use DAY=1\n",
    "df['date'] = pd.to_datetime(df[['year','month']].assign(DAY=1))"
   ]
  },
  {
   "cell_type": "code",
   "execution_count": 9,
   "metadata": {},
   "outputs": [],
   "source": [
    "# we can drop month and year columns now\n",
    "df.drop(['year','month'],axis=1,inplace=True)"
   ]
  },
  {
   "cell_type": "code",
   "execution_count": 10,
   "metadata": {},
   "outputs": [],
   "source": [
    "# set the date as index\n",
    "df.set_index('date',inplace=True)"
   ]
  },
  {
   "cell_type": "code",
   "execution_count": 11,
   "metadata": {},
   "outputs": [
    {
     "data": {
      "text/html": [
       "<div>\n",
       "<style scoped>\n",
       "    .dataframe tbody tr th:only-of-type {\n",
       "        vertical-align: middle;\n",
       "    }\n",
       "\n",
       "    .dataframe tbody tr th {\n",
       "        vertical-align: top;\n",
       "    }\n",
       "\n",
       "    .dataframe thead th {\n",
       "        text-align: right;\n",
       "    }\n",
       "</style>\n",
       "<table border=\"1\" class=\"dataframe\">\n",
       "  <thead>\n",
       "    <tr style=\"text-align: right;\">\n",
       "      <th></th>\n",
       "      <th>temp</th>\n",
       "    </tr>\n",
       "    <tr>\n",
       "      <th>date</th>\n",
       "      <th></th>\n",
       "    </tr>\n",
       "  </thead>\n",
       "  <tbody>\n",
       "    <tr>\n",
       "      <th>1949-01-01</th>\n",
       "      <td>-2.7</td>\n",
       "    </tr>\n",
       "    <tr>\n",
       "      <th>1949-02-01</th>\n",
       "      <td>0.0</td>\n",
       "    </tr>\n",
       "    <tr>\n",
       "      <th>1949-03-01</th>\n",
       "      <td>0.1</td>\n",
       "    </tr>\n",
       "    <tr>\n",
       "      <th>1949-04-01</th>\n",
       "      <td>-0.0</td>\n",
       "    </tr>\n",
       "    <tr>\n",
       "      <th>1949-05-01</th>\n",
       "      <td>3.6</td>\n",
       "    </tr>\n",
       "  </tbody>\n",
       "</table>\n",
       "</div>"
      ],
      "text/plain": [
       "            temp\n",
       "date            \n",
       "1949-01-01  -2.7\n",
       "1949-02-01   0.0\n",
       "1949-03-01   0.1\n",
       "1949-04-01  -0.0\n",
       "1949-05-01   3.6"
      ]
     },
     "execution_count": 11,
     "metadata": {},
     "output_type": "execute_result"
    }
   ],
   "source": [
    "# does it look like how we want it?\n",
    "df.head()"
   ]
  },
  {
   "cell_type": "code",
   "execution_count": 18,
   "metadata": {},
   "outputs": [],
   "source": [
    "# save it as a new csv file\n",
    "df.to_csv('reykjavik_temperature_data.csv')"
   ]
  },
  {
   "cell_type": "code",
   "execution_count": 19,
   "metadata": {},
   "outputs": [],
   "source": [
    "# we can now read in the data like this\n",
    "#df = pd.read_csv('reykjavik_temperature_data.csv',index_col='date')"
   ]
  },
  {
   "cell_type": "code",
   "execution_count": null,
   "metadata": {},
   "outputs": [],
   "source": []
  }
 ],
 "metadata": {
  "kernelspec": {
   "display_name": "Python 3",
   "language": "python",
   "name": "python3"
  },
  "language_info": {
   "codemirror_mode": {
    "name": "ipython",
    "version": 3
   },
   "file_extension": ".py",
   "mimetype": "text/x-python",
   "name": "python",
   "nbconvert_exporter": "python",
   "pygments_lexer": "ipython3",
   "version": "3.8.10"
  }
 },
 "nbformat": 4,
 "nbformat_minor": 2
}
