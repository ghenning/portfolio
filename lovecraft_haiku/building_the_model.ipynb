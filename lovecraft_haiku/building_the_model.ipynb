{
 "cells": [
  {
   "cell_type": "code",
   "execution_count": 1,
   "metadata": {},
   "outputs": [],
   "source": [
    "# imports\n",
    "import numpy as np\n",
    "import spacy\n",
    "import glob\n",
    "import os\n",
    "# TF Keras\n",
    "from tensorflow.keras.preprocessing.text import Tokenizer\n",
    "from tensorflow.keras.models import Sequential\n",
    "from tensorflow.keras.layers import Embedding, Dense, LSTM, GRU\n",
    "from tensorflow.keras.utils import to_categorical\n",
    "# pickle to save stuff\n",
    "from pickle import dump"
   ]
  },
  {
   "cell_type": "code",
   "execution_count": 2,
   "metadata": {},
   "outputs": [],
   "source": [
    "# grab the texts\n",
    "# CHANGE THE DIRECTORY OF WHERE THE TEXTS ARE\n",
    "texts = glob.glob(os.path.join('../shakecraft/stories/',\n",
    "                              'hp*.txt'))"
   ]
  },
  {
   "cell_type": "code",
   "execution_count": 3,
   "metadata": {},
   "outputs": [],
   "source": [
    "# combine all the texts into one\n",
    "txt = []\n",
    "\n",
    "for tmp_txt in texts:\n",
    "    with open(tmp_txt,'r') as f:\n",
    "        txt.append(f.read())\n",
    "complete_txt = \" \".join(txt)\n",
    "\n",
    "# it's a bit long, shave the text down\n",
    "# MAYBE TRY TO DIVIDE BY 2 OR 3\n",
    "c_text = complete_txt[:len(complete_txt)//3]\n"
   ]
  },
  {
   "cell_type": "code",
   "execution_count": 4,
   "metadata": {},
   "outputs": [
    {
     "name": "stdout",
     "output_type": "stream",
     "text": [
      "637966\n"
     ]
    }
   ],
   "source": [
    "print(len(c_text))"
   ]
  },
  {
   "cell_type": "code",
   "execution_count": 5,
   "metadata": {},
   "outputs": [],
   "source": [
    "# load spacy object and set max length the same as our text\n",
    "nlp = spacy.load('en_core_web_lg')\n",
    "nlp.max_length = len(c_text)"
   ]
  },
  {
   "cell_type": "code",
   "execution_count": 6,
   "metadata": {},
   "outputs": [],
   "source": [
    "# filter out some garbage from the text\n",
    "the_filter = '!\"#$%&()*+,-./:;<=>?@[\\\\]^_`{|}~\\t\\n—\\n\\n\\n     ’”“   '"
   ]
  },
  {
   "cell_type": "code",
   "execution_count": 7,
   "metadata": {},
   "outputs": [],
   "source": [
    "# lowercase everything and get rid of punctuation according to the_filter\n",
    "def separate_punctuation(doc_text):\n",
    "    return [token.text.lower() for token in nlp(doc_text) if token.text not in the_filter]"
   ]
  },
  {
   "cell_type": "code",
   "execution_count": 8,
   "metadata": {},
   "outputs": [],
   "source": [
    "# get the tokens\n",
    "tokens = separate_punctuation(c_text)"
   ]
  },
  {
   "cell_type": "code",
   "execution_count": 9,
   "metadata": {},
   "outputs": [],
   "source": [
    "# set the sequence length and make a list of sequences\n",
    "# seq_len = 50 + 1\n",
    "seq_len = 200 + 1\n",
    "txt_seqs = []\n",
    "\n",
    "# the sequences will look something like this:\n",
    "# sequence 1: [a b c d]\n",
    "# sequence 2: [b c d e]\n",
    "# sequence 3: [c d e f]\n",
    "for i in range(seq_len,len(tokens)):\n",
    "    seq = tokens[i-seq_len:i]\n",
    "    txt_seqs.append(seq)"
   ]
  },
  {
   "cell_type": "code",
   "execution_count": 10,
   "metadata": {},
   "outputs": [],
   "source": [
    "# make a tensorflow tokenizer and turn the texts into sequences\n",
    "tokenizer = Tokenizer()\n",
    "tokenizer.fit_on_texts(txt_seqs)\n",
    "seqs = tokenizer.texts_to_sequences(txt_seqs)"
   ]
  },
  {
   "cell_type": "code",
   "execution_count": 11,
   "metadata": {},
   "outputs": [],
   "source": [
    "# vocabulary size\n",
    "vocab_size = len(tokenizer.word_counts)"
   ]
  },
  {
   "cell_type": "code",
   "execution_count": 12,
   "metadata": {},
   "outputs": [
    {
     "name": "stdout",
     "output_type": "stream",
     "text": [
      "12046\n"
     ]
    }
   ],
   "source": [
    "print(vocab_size)"
   ]
  },
  {
   "cell_type": "code",
   "execution_count": 13,
   "metadata": {},
   "outputs": [],
   "source": [
    "# turn the sequences into numpy arrays\n",
    "seqs = np.array(seqs)"
   ]
  },
  {
   "cell_type": "code",
   "execution_count": 15,
   "metadata": {},
   "outputs": [],
   "source": [
    "# function to create the model\n",
    "# embedding -> gated recurrent unit (GRU) -> GRU -> dense -> dense\n",
    "def create_model(voc_size,s_len):\n",
    "    model = Sequential()\n",
    "    model.add(Embedding(voc_size,64,input_length=s_len))\n",
    "    model.add(GRU(128,return_sequences=True))\n",
    "    model.add(GRU(128))\n",
    "    model.add(Dense(128,activation='relu'))\n",
    "    model.add(Dense(voc_size,activation='softmax'))\n",
    "    \n",
    "    model.compile(loss='categorical_crossentropy',optimizer='adam',metrics=['accuracy'])\n",
    "    \n",
    "    model.summary()\n",
    "    \n",
    "    return model"
   ]
  },
  {
   "cell_type": "code",
   "execution_count": 16,
   "metadata": {},
   "outputs": [],
   "source": [
    "# turn the sequences into X and y\n",
    "# e.g. [a b c d e] will become [a b c d] and [e]\n",
    "X = seqs[:,:-1]\n",
    "y = seqs[:,-1]\n",
    "\n",
    "# one-hot-encode y \n",
    "y = to_categorical(y,num_classes=vocab_size+1)"
   ]
  },
  {
   "cell_type": "code",
   "execution_count": 17,
   "metadata": {},
   "outputs": [],
   "source": [
    "# set the sequence length\n",
    "seq_len = X.shape[1]"
   ]
  },
  {
   "cell_type": "code",
   "execution_count": 18,
   "metadata": {},
   "outputs": [
    {
     "name": "stdout",
     "output_type": "stream",
     "text": [
      "Model: \"sequential\"\n",
      "_________________________________________________________________\n",
      " Layer (type)                Output Shape              Param #   \n",
      "=================================================================\n",
      " embedding (Embedding)       (None, 200, 64)           771008    \n",
      "                                                                 \n",
      " gru (GRU)                   (None, 200, 128)          74496     \n",
      "                                                                 \n",
      " gru_1 (GRU)                 (None, 128)               99072     \n",
      "                                                                 \n",
      " dense (Dense)               (None, 128)               16512     \n",
      "                                                                 \n",
      " dense_1 (Dense)             (None, 12047)             1554063   \n",
      "                                                                 \n",
      "=================================================================\n",
      "Total params: 2,515,151\n",
      "Trainable params: 2,515,151\n",
      "Non-trainable params: 0\n",
      "_________________________________________________________________\n"
     ]
    }
   ],
   "source": [
    "# create the model\n",
    "model = create_model(vocab_size+1,seq_len)"
   ]
  },
  {
   "cell_type": "code",
   "execution_count": 19,
   "metadata": {},
   "outputs": [
    {
     "name": "stdout",
     "output_type": "stream",
     "text": [
      "Epoch 1/125\n",
      "881/881 [==============================] - 34s 36ms/step - loss: 7.1448 - accuracy: 0.0641\n",
      "Epoch 2/125\n",
      "881/881 [==============================] - 31s 36ms/step - loss: 6.9247 - accuracy: 0.0648\n",
      "Epoch 3/125\n",
      "881/881 [==============================] - 34s 39ms/step - loss: 6.7375 - accuracy: 0.0739\n",
      "Epoch 4/125\n",
      "881/881 [==============================] - 42s 48ms/step - loss: 6.3808 - accuracy: 0.1018\n",
      "Epoch 5/125\n",
      "881/881 [==============================] - 50s 56ms/step - loss: 6.0900 - accuracy: 0.1199\n",
      "Epoch 6/125\n",
      "881/881 [==============================] - 59s 67ms/step - loss: 5.8785 - accuracy: 0.1305\n",
      "Epoch 7/125\n",
      "881/881 [==============================] - 62s 70ms/step - loss: 5.7007 - accuracy: 0.1399\n",
      "Epoch 8/125\n",
      "881/881 [==============================] - 69s 79ms/step - loss: 5.5281 - accuracy: 0.1483\n",
      "Epoch 9/125\n",
      "881/881 [==============================] - 75s 85ms/step - loss: 5.3592 - accuracy: 0.1563\n",
      "Epoch 10/125\n",
      "881/881 [==============================] - 85s 97ms/step - loss: 5.1968 - accuracy: 0.1634\n",
      "Epoch 11/125\n",
      "881/881 [==============================] - 98s 112ms/step - loss: 5.0440 - accuracy: 0.1718\n",
      "Epoch 12/125\n",
      "881/881 [==============================] - 107s 121ms/step - loss: 4.8958 - accuracy: 0.1793\n",
      "Epoch 13/125\n",
      "881/881 [==============================] - 115s 131ms/step - loss: 4.7493 - accuracy: 0.1881\n",
      "Epoch 14/125\n",
      "881/881 [==============================] - 118s 134ms/step - loss: 4.6027 - accuracy: 0.1960\n",
      "Epoch 15/125\n",
      "881/881 [==============================] - 128s 146ms/step - loss: 4.4452 - accuracy: 0.2060\n",
      "Epoch 16/125\n",
      "881/881 [==============================] - 129s 146ms/step - loss: 4.2871 - accuracy: 0.2162\n",
      "Epoch 17/125\n",
      "881/881 [==============================] - 128s 146ms/step - loss: 4.1361 - accuracy: 0.2284\n",
      "Epoch 18/125\n",
      "881/881 [==============================] - 128s 146ms/step - loss: 3.9914 - accuracy: 0.2423\n",
      "Epoch 19/125\n",
      "881/881 [==============================] - 129s 146ms/step - loss: 3.8515 - accuracy: 0.2589\n",
      "Epoch 20/125\n",
      "881/881 [==============================] - 129s 146ms/step - loss: 3.7192 - accuracy: 0.2749\n",
      "Epoch 21/125\n",
      "881/881 [==============================] - 129s 147ms/step - loss: 3.5958 - accuracy: 0.2902\n",
      "Epoch 22/125\n",
      "881/881 [==============================] - 138s 156ms/step - loss: 3.4749 - accuracy: 0.3062\n",
      "Epoch 23/125\n",
      "881/881 [==============================] - 138s 156ms/step - loss: 3.3598 - accuracy: 0.3221\n",
      "Epoch 24/125\n",
      "881/881 [==============================] - 126s 143ms/step - loss: 3.2529 - accuracy: 0.3387\n",
      "Epoch 25/125\n",
      "881/881 [==============================] - 132s 150ms/step - loss: 3.1524 - accuracy: 0.3519\n",
      "Epoch 26/125\n",
      "881/881 [==============================] - 122s 139ms/step - loss: 3.0519 - accuracy: 0.3682\n",
      "Epoch 27/125\n",
      "881/881 [==============================] - 132s 150ms/step - loss: 2.9527 - accuracy: 0.3837\n",
      "Epoch 28/125\n",
      "881/881 [==============================] - 137s 156ms/step - loss: 2.8620 - accuracy: 0.3977\n",
      "Epoch 29/125\n",
      "881/881 [==============================] - 138s 156ms/step - loss: 2.7756 - accuracy: 0.4120\n",
      "Epoch 30/125\n",
      "881/881 [==============================] - 149s 168ms/step - loss: 2.6861 - accuracy: 0.4251\n",
      "Epoch 31/125\n",
      "881/881 [==============================] - 152s 173ms/step - loss: 2.5991 - accuracy: 0.4405\n",
      "Epoch 32/125\n",
      "881/881 [==============================] - 151s 172ms/step - loss: 2.5161 - accuracy: 0.4545\n",
      "Epoch 33/125\n",
      "881/881 [==============================] - 142s 161ms/step - loss: 2.4333 - accuracy: 0.4677\n",
      "Epoch 34/125\n",
      "881/881 [==============================] - 170s 194ms/step - loss: 2.3524 - accuracy: 0.4827\n",
      "Epoch 35/125\n",
      "881/881 [==============================] - 165s 188ms/step - loss: 2.2721 - accuracy: 0.4962\n",
      "Epoch 36/125\n",
      "881/881 [==============================] - 173s 196ms/step - loss: 2.1945 - accuracy: 0.5098\n",
      "Epoch 37/125\n",
      "881/881 [==============================] - 166s 189ms/step - loss: 2.1178 - accuracy: 0.5241\n",
      "Epoch 38/125\n",
      "881/881 [==============================] - 164s 186ms/step - loss: 2.0471 - accuracy: 0.5380\n",
      "Epoch 39/125\n",
      "881/881 [==============================] - 197s 224ms/step - loss: 1.9808 - accuracy: 0.5502\n",
      "Epoch 40/125\n",
      "881/881 [==============================] - 180s 204ms/step - loss: 1.9153 - accuracy: 0.5629\n",
      "Epoch 41/125\n",
      "881/881 [==============================] - 186s 211ms/step - loss: 1.8565 - accuracy: 0.5729\n",
      "Epoch 42/125\n",
      "881/881 [==============================] - 185s 209ms/step - loss: 1.7950 - accuracy: 0.5862\n",
      "Epoch 43/125\n",
      "881/881 [==============================] - 208s 236ms/step - loss: 1.7431 - accuracy: 0.5954\n",
      "Epoch 44/125\n",
      "881/881 [==============================] - 203s 231ms/step - loss: 1.6803 - accuracy: 0.6069\n",
      "Epoch 45/125\n",
      "881/881 [==============================] - 208s 236ms/step - loss: 1.6172 - accuracy: 0.6205\n",
      "Epoch 46/125\n",
      "881/881 [==============================] - 221s 250ms/step - loss: 1.5773 - accuracy: 0.6266\n",
      "Epoch 47/125\n",
      "881/881 [==============================] - 217s 247ms/step - loss: 1.5184 - accuracy: 0.6403\n",
      "Epoch 48/125\n",
      "881/881 [==============================] - 239s 271ms/step - loss: 1.4775 - accuracy: 0.6482\n",
      "Epoch 49/125\n",
      "881/881 [==============================] - 218s 247ms/step - loss: 1.4303 - accuracy: 0.6578\n",
      "Epoch 50/125\n",
      "881/881 [==============================] - 238s 270ms/step - loss: 1.3847 - accuracy: 0.6660\n",
      "Epoch 51/125\n",
      "881/881 [==============================] - 238s 270ms/step - loss: 1.3488 - accuracy: 0.6731\n",
      "Epoch 52/125\n",
      "881/881 [==============================] - 238s 270ms/step - loss: 1.2999 - accuracy: 0.6832\n",
      "Epoch 53/125\n",
      "881/881 [==============================] - 238s 271ms/step - loss: 1.2682 - accuracy: 0.6903\n",
      "Epoch 54/125\n",
      "881/881 [==============================] - 238s 270ms/step - loss: 1.2308 - accuracy: 0.6975\n",
      "Epoch 55/125\n",
      "881/881 [==============================] - 239s 271ms/step - loss: 1.1892 - accuracy: 0.7061\n",
      "Epoch 56/125\n",
      "881/881 [==============================] - 238s 270ms/step - loss: 1.1590 - accuracy: 0.7132\n",
      "Epoch 57/125\n",
      "881/881 [==============================] - 238s 271ms/step - loss: 1.1311 - accuracy: 0.7187\n",
      "Epoch 58/125\n",
      "881/881 [==============================] - 238s 270ms/step - loss: 1.0941 - accuracy: 0.7277\n",
      "Epoch 59/125\n",
      "881/881 [==============================] - 238s 270ms/step - loss: 1.0653 - accuracy: 0.7335\n",
      "Epoch 60/125\n",
      "881/881 [==============================] - 238s 271ms/step - loss: 1.0397 - accuracy: 0.7378\n",
      "Epoch 61/125\n",
      "881/881 [==============================] - 238s 271ms/step - loss: 1.0021 - accuracy: 0.7467\n",
      "Epoch 62/125\n",
      "881/881 [==============================] - 238s 271ms/step - loss: 0.9734 - accuracy: 0.7525\n",
      "Epoch 63/125\n",
      "881/881 [==============================] - 239s 271ms/step - loss: 0.9450 - accuracy: 0.7592\n",
      "Epoch 64/125\n",
      "881/881 [==============================] - 238s 271ms/step - loss: 0.9326 - accuracy: 0.7615\n",
      "Epoch 65/125\n",
      "881/881 [==============================] - 238s 271ms/step - loss: 0.9041 - accuracy: 0.7683\n",
      "Epoch 66/125\n",
      "881/881 [==============================] - 238s 270ms/step - loss: 0.8740 - accuracy: 0.7761\n",
      "Epoch 67/125\n",
      "881/881 [==============================] - 238s 270ms/step - loss: 0.8539 - accuracy: 0.7790\n",
      "Epoch 68/125\n",
      "881/881 [==============================] - 238s 270ms/step - loss: 0.8410 - accuracy: 0.7827\n",
      "Epoch 69/125\n",
      "881/881 [==============================] - 238s 270ms/step - loss: 0.8056 - accuracy: 0.7919\n",
      "Epoch 70/125\n",
      "881/881 [==============================] - 238s 271ms/step - loss: 0.7988 - accuracy: 0.7916\n",
      "Epoch 71/125\n",
      "881/881 [==============================] - 238s 270ms/step - loss: 0.7763 - accuracy: 0.7972\n",
      "Epoch 72/125\n",
      "881/881 [==============================] - 226s 256ms/step - loss: 0.7608 - accuracy: 0.8025\n",
      "Epoch 73/125\n",
      "881/881 [==============================] - 224s 254ms/step - loss: 0.7416 - accuracy: 0.8052\n",
      "Epoch 74/125\n",
      "881/881 [==============================] - 238s 270ms/step - loss: 0.7229 - accuracy: 0.8093\n",
      "Epoch 75/125\n",
      "881/881 [==============================] - 224s 254ms/step - loss: 0.7087 - accuracy: 0.8126\n",
      "Epoch 76/125\n",
      "881/881 [==============================] - 238s 271ms/step - loss: 0.6848 - accuracy: 0.8185\n",
      "Epoch 77/125\n",
      "881/881 [==============================] - 223s 253ms/step - loss: 0.6778 - accuracy: 0.8194\n",
      "Epoch 78/125\n",
      "881/881 [==============================] - 201s 228ms/step - loss: 0.6777 - accuracy: 0.8189\n",
      "Epoch 79/125\n",
      "881/881 [==============================] - 217s 246ms/step - loss: 0.6450 - accuracy: 0.8275\n",
      "Epoch 80/125\n",
      "881/881 [==============================] - 200s 227ms/step - loss: 0.6372 - accuracy: 0.8277\n",
      "Epoch 81/125\n",
      "881/881 [==============================] - 208s 236ms/step - loss: 0.6292 - accuracy: 0.8304\n",
      "Epoch 82/125\n",
      "881/881 [==============================] - 216s 246ms/step - loss: 0.6140 - accuracy: 0.8332\n",
      "Epoch 83/125\n",
      "881/881 [==============================] - 213s 242ms/step - loss: 0.6013 - accuracy: 0.8375\n",
      "Epoch 84/125\n",
      "881/881 [==============================] - 203s 231ms/step - loss: 0.6060 - accuracy: 0.8358\n",
      "Epoch 85/125\n",
      "881/881 [==============================] - 215s 244ms/step - loss: 0.5793 - accuracy: 0.8417\n",
      "Epoch 86/125\n",
      "881/881 [==============================] - 226s 256ms/step - loss: 0.5760 - accuracy: 0.8417\n",
      "Epoch 87/125\n",
      "881/881 [==============================] - 222s 253ms/step - loss: 0.5488 - accuracy: 0.8500\n",
      "Epoch 88/125\n",
      "881/881 [==============================] - 238s 271ms/step - loss: 0.5441 - accuracy: 0.8521\n",
      "Epoch 89/125\n",
      "881/881 [==============================] - 216s 245ms/step - loss: 0.5436 - accuracy: 0.8511\n",
      "Epoch 90/125\n",
      "881/881 [==============================] - 223s 253ms/step - loss: 0.5363 - accuracy: 0.8530\n",
      "Epoch 91/125\n",
      "881/881 [==============================] - 222s 252ms/step - loss: 0.5295 - accuracy: 0.8544\n",
      "Epoch 92/125\n",
      "881/881 [==============================] - 206s 234ms/step - loss: 0.5112 - accuracy: 0.8584\n",
      "Epoch 93/125\n",
      "881/881 [==============================] - 219s 248ms/step - loss: 0.5102 - accuracy: 0.8583\n",
      "Epoch 94/125\n",
      "881/881 [==============================] - 238s 270ms/step - loss: 0.4896 - accuracy: 0.8651\n",
      "Epoch 95/125\n",
      "881/881 [==============================] - 239s 271ms/step - loss: 0.4947 - accuracy: 0.8631\n",
      "Epoch 96/125\n",
      "881/881 [==============================] - 218s 248ms/step - loss: 0.4885 - accuracy: 0.8643\n",
      "Epoch 97/125\n",
      "881/881 [==============================] - 216s 245ms/step - loss: 0.4958 - accuracy: 0.8615\n",
      "Epoch 98/125\n",
      "881/881 [==============================] - 222s 252ms/step - loss: 0.4744 - accuracy: 0.8682\n",
      "Epoch 99/125\n",
      "881/881 [==============================] - 239s 271ms/step - loss: 0.4560 - accuracy: 0.8722\n",
      "Epoch 100/125\n",
      "881/881 [==============================] - 238s 270ms/step - loss: 0.4400 - accuracy: 0.8764\n",
      "Epoch 101/125\n",
      "881/881 [==============================] - 238s 271ms/step - loss: 0.4475 - accuracy: 0.8758\n",
      "Epoch 102/125\n",
      "881/881 [==============================] - 227s 258ms/step - loss: 0.4667 - accuracy: 0.8683\n",
      "Epoch 103/125\n",
      "881/881 [==============================] - 214s 243ms/step - loss: 0.4351 - accuracy: 0.8776\n",
      "Epoch 104/125\n",
      "881/881 [==============================] - 204s 231ms/step - loss: 0.4247 - accuracy: 0.8807\n",
      "Epoch 105/125\n",
      "881/881 [==============================] - 221s 251ms/step - loss: 0.4327 - accuracy: 0.8785\n",
      "Epoch 106/125\n",
      "881/881 [==============================] - 218s 247ms/step - loss: 0.4316 - accuracy: 0.8791\n",
      "Epoch 107/125\n",
      "881/881 [==============================] - 210s 238ms/step - loss: 0.4274 - accuracy: 0.8787\n",
      "Epoch 108/125\n",
      "881/881 [==============================] - 222s 251ms/step - loss: 0.3973 - accuracy: 0.8880\n",
      "Epoch 109/125\n",
      "881/881 [==============================] - 200s 227ms/step - loss: 0.3975 - accuracy: 0.8862\n",
      "Epoch 110/125\n",
      "881/881 [==============================] - 213s 242ms/step - loss: 0.4135 - accuracy: 0.8822\n",
      "Epoch 111/125\n",
      "881/881 [==============================] - 215s 244ms/step - loss: 0.3919 - accuracy: 0.8892\n",
      "Epoch 112/125\n",
      "881/881 [==============================] - 205s 232ms/step - loss: 0.4104 - accuracy: 0.8834\n",
      "Epoch 113/125\n",
      "881/881 [==============================] - 203s 231ms/step - loss: 0.4080 - accuracy: 0.8840\n",
      "Epoch 114/125\n",
      "881/881 [==============================] - 202s 230ms/step - loss: 0.3674 - accuracy: 0.8961\n",
      "Epoch 115/125\n",
      "881/881 [==============================] - 217s 247ms/step - loss: 0.3873 - accuracy: 0.8909\n",
      "Epoch 116/125\n",
      "881/881 [==============================] - 203s 230ms/step - loss: 0.3998 - accuracy: 0.8869\n",
      "Epoch 117/125\n",
      "881/881 [==============================] - 199s 226ms/step - loss: 0.3761 - accuracy: 0.8931\n",
      "Epoch 118/125\n",
      "881/881 [==============================] - 218s 247ms/step - loss: 0.3558 - accuracy: 0.8980\n",
      "Epoch 119/125\n",
      "881/881 [==============================] - 202s 229ms/step - loss: 0.3551 - accuracy: 0.8985\n",
      "Epoch 120/125\n",
      "881/881 [==============================] - 223s 254ms/step - loss: 0.3868 - accuracy: 0.8900\n",
      "Epoch 121/125\n",
      "881/881 [==============================] - 218s 248ms/step - loss: 0.3720 - accuracy: 0.8933\n",
      "Epoch 122/125\n",
      "881/881 [==============================] - 186s 211ms/step - loss: 0.3557 - accuracy: 0.8991\n",
      "Epoch 123/125\n",
      "881/881 [==============================] - 202s 230ms/step - loss: 0.3473 - accuracy: 0.9006\n",
      "Epoch 124/125\n",
      "881/881 [==============================] - 221s 250ms/step - loss: 0.3492 - accuracy: 0.8997\n",
      "Epoch 125/125\n",
      "881/881 [==============================] - 223s 253ms/step - loss: 0.3495 - accuracy: 0.9001\n"
     ]
    },
    {
     "data": {
      "text/plain": [
       "<keras.callbacks.History at 0x7f695cc2ca60>"
      ]
     },
     "execution_count": 19,
     "metadata": {},
     "output_type": "execute_result"
    }
   ],
   "source": [
    "# fit the model\n",
    "model.fit(X,y,batch_size=128,epochs=125,verbose=1)"
   ]
  },
  {
   "cell_type": "code",
   "execution_count": 20,
   "metadata": {},
   "outputs": [],
   "source": [
    "# save our model, tokenizer, and text sequences\n",
    "model.save('hp_GRU_E125_200seq.h5')\n",
    "# with open('hp_GRU_E15_tokenizer.pickle', 'wb') as f:\n",
    "#     dump(tokenizer)\n",
    "# with open('hp_GRU_E15_txt_seqs.pickle','wb') as f:\n",
    "#     dump(txt_seqs)\n",
    "dump(tokenizer,open('hp_GRU_E125_200seq_tokenizer.pickle','wb'))\n",
    "dump(txt_seqs,open('hp_GRU_E125_200seq_txt_seqs.pickle','wb'))"
   ]
  },
  {
   "cell_type": "code",
   "execution_count": null,
   "metadata": {},
   "outputs": [],
   "source": []
  }
 ],
 "metadata": {
  "kernelspec": {
   "display_name": "Python 3",
   "language": "python",
   "name": "python3"
  },
  "language_info": {
   "codemirror_mode": {
    "name": "ipython",
    "version": 3
   },
   "file_extension": ".py",
   "mimetype": "text/x-python",
   "name": "python",
   "nbconvert_exporter": "python",
   "pygments_lexer": "ipython3",
   "version": "3.8.10"
  }
 },
 "nbformat": 4,
 "nbformat_minor": 2
}
